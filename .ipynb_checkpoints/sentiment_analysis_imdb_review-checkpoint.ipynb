{
 "cells": [
  {
   "cell_type": "code",
   "execution_count": 1,
   "metadata": {},
   "outputs": [],
   "source": [
    "import glob\n",
    "import re\n",
    "from sklearn.feature_extraction.text import CountVectorizer\n",
    "from sklearn.linear_model import LogisticRegression\n",
    "from sklearn.metrics import accuracy_score\n",
    "from sklearn.model_selection import train_test_split"
   ]
  },
  {
   "cell_type": "code",
   "execution_count": 2,
   "metadata": {},
   "outputs": [],
   "source": [
    "# dataset is availabe here http://ai.stanford.edu/~amaas/data/sentiment/\n",
    "train_data_p = glob.glob('/home/kamlesh/datasets/aclImdb_v1/aclImdb/train/pos/*')\n",
    "train_data_n = glob.glob('/home/kamlesh/datasets/aclImdb_v1/aclImdb/train/neg/*')\n",
    "test_data_p = glob.glob('/home/kamlesh/datasets/aclImdb_v1/aclImdb/test/pos/*')\n",
    "test_data_n = glob.glob('/home/kamlesh/datasets/aclImdb_v1/aclImdb/test/neg/*')"
   ]
  },
  {
   "cell_type": "code",
   "execution_count": 3,
   "metadata": {
    "scrolled": true
   },
   "outputs": [],
   "source": [
    "REPLACE_NO_SPACE = re.compile(\"[.;:!\\'?,\\\"()\\[\\]]\")\n",
    "REPLACE_WITH_SPACE = re.compile(\"(<br\\s*/><br\\s*/>)|(\\-)|(\\/)\")\n",
    "def clean_data(data):\n",
    "    data = REPLACE_WITH_SPACE.sub(\" \", data)\n",
    "    data = REPLACE_NO_SPACE.sub(\"\", data.lower())\n",
    "    return data\n"
   ]
  },
  {
   "cell_type": "code",
   "execution_count": 4,
   "metadata": {},
   "outputs": [
    {
     "name": "stdout",
     "output_type": "stream",
     "text": [
      "25000\n",
      "25000\n"
     ]
    }
   ],
   "source": [
    "train = []\n",
    "test = []\n",
    "for file in train_data_p:\n",
    "    data = open(file,\"r\").read().strip()\n",
    "    data = clean_data(data)\n",
    "    train.append(data)\n",
    "for file in train_data_n:\n",
    "    data = open(file,\"r\").read().strip()\n",
    "    data = clean_data(data)\n",
    "    train.append(data)\n",
    "for file in test_data_p:\n",
    "    data = open(file,\"r\").read().strip()\n",
    "    data = clean_data(data)\n",
    "    test.append(data)\n",
    "for file in test_data_n:\n",
    "    data = open(file,\"r\").read().strip()\n",
    "    data = clean_data(data)\n",
    "    test.append(data)\n",
    "    \n",
    "print(len(train))\n",
    "print(len(test))"
   ]
  },
  {
   "cell_type": "code",
   "execution_count": 5,
   "metadata": {},
   "outputs": [],
   "source": [
    "cv = CountVectorizer(binary=True)\n",
    "cv.fit(train)\n",
    "X_train = cv.transform(train)\n",
    "X_test = cv.transform(test)\n",
    "y_train = [1 if i<12500 else 0 for i in range(25000)]\n",
    "y_test = [1 if i<12500 else 0 for i in range(25000)]"
   ]
  },
  {
   "cell_type": "code",
   "execution_count": 6,
   "metadata": {},
   "outputs": [
    {
     "name": "stderr",
     "output_type": "stream",
     "text": [
      "/home/kamlesh/.local/lib/python3.6/site-packages/sklearn/linear_model/logistic.py:432: FutureWarning: Default solver will be changed to 'lbfgs' in 0.22. Specify a solver to silence this warning.\n",
      "  FutureWarning)\n"
     ]
    },
    {
     "name": "stdout",
     "output_type": "stream",
     "text": [
      "validation accuracy for c=0.01:0.8766\n",
      "validation accuracy for c=0.05:0.8862\n",
      "validation accuracy for c=0.1:0.8896\n",
      "validation accuracy for c=0.5:0.8822\n",
      "validation accuracy for c=1:0.879\n"
     ]
    }
   ],
   "source": [
    "X_train,X_val,y_train,y_val = train_test_split(X_train,y_train,train_size=0.80,random_state=42)\n",
    "\n",
    "for c in [0.01,0.05,0.1,0.5,1]:\n",
    "    model = LogisticRegression(C=c)\n",
    "    model.fit(X_train,y_train)\n",
    "    print(\"validation accuracy for c=%s:%s\"%(c,accuracy_score(y_val,model.predict(X_val))))"
   ]
  },
  {
   "cell_type": "code",
   "execution_count": 7,
   "metadata": {},
   "outputs": [
    {
     "name": "stdout",
     "output_type": "stream",
     "text": [
      "test accuracy is 0.87904\n"
     ]
    }
   ],
   "source": [
    "best_model = LogisticRegression(C=0.1)\n",
    "best_model.fit(X_train,y_train)\n",
    "print(\"test accuracy is %s\"%accuracy_score(y_test,best_model.predict(X_test)))"
   ]
  },
  {
   "cell_type": "code",
   "execution_count": 8,
   "metadata": {},
   "outputs": [
    {
     "name": "stdout",
     "output_type": "stream",
     "text": [
      "('excellent', 1.0140027766045905)\n",
      "('perfect', 0.8589396465970884)\n",
      "('great', 0.6868357072134068)\n",
      "('surprisingly', 0.6834742465586405)\n",
      "('refreshing', 0.6773943875302683)\n",
      "('worst', -1.4781310139446902)\n",
      "('waste', -1.3166634556909393)\n",
      "('awful', -1.0990847187621628)\n",
      "('disappointment', -1.0013182244167205)\n",
      "('poorly', -0.9730142002179379)\n"
     ]
    }
   ],
   "source": [
    "feature_to_coef = { word: coef for word, coef in zip( cv.get_feature_names(), best_model.coef_[0]) }\n",
    "for best_positive in sorted(feature_to_coef.items(), key=lambda x: x[1], reverse=True)[:5]:\n",
    "    print (best_positive)\n",
    "for best_negative in sorted(feature_to_coef.items(), key=lambda x: x[1])[:5]:\n",
    "    print (best_negative)"
   ]
  },
  {
   "cell_type": "code",
   "execution_count": null,
   "metadata": {},
   "outputs": [],
   "source": []
  }
 ],
 "metadata": {
  "kernelspec": {
   "display_name": "Python 3",
   "language": "python",
   "name": "python3"
  },
  "language_info": {
   "codemirror_mode": {
    "name": "ipython",
    "version": 3
   },
   "file_extension": ".py",
   "mimetype": "text/x-python",
   "name": "python",
   "nbconvert_exporter": "python",
   "pygments_lexer": "ipython3",
   "version": "3.6.9"
  }
 },
 "nbformat": 4,
 "nbformat_minor": 4
}
